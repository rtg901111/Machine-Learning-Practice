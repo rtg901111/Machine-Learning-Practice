{
 "cells": [
  {
   "cell_type": "markdown",
   "metadata": {},
   "source": [
    "# Problem 1"
   ]
  },
  {
   "cell_type": "markdown",
   "metadata": {},
   "source": [
    "### 1.1"
   ]
  },
  {
   "cell_type": "code",
   "execution_count": 2,
   "metadata": {},
   "outputs": [
    {
     "name": "stdout",
     "output_type": "stream",
     "text": [
      "This is the entropy H(y):  0.9709505944546686 bits.\n"
     ]
    }
   ],
   "source": [
    "#Calculate the entropy H(y) of the binary class variable y. \n",
    "#H = -p log(p) - (1-p) log(1-p).\n",
    "import math\n",
    "\n",
    "entropy = ( -0.4 * math.log2(0.4) ) - ( (1-0.4) * math.log2(1-0.4) )\n",
    "print(\"This is the entropy H(y): \", entropy, \"bits.\")"
   ]
  },
  {
   "cell_type": "markdown",
   "metadata": {},
   "source": [
    "### 1.2"
   ]
  },
  {
   "cell_type": "code",
   "execution_count": 12,
   "metadata": {},
   "outputs": [
    {
     "name": "stdout",
     "output_type": "stream",
     "text": [
      "The feature x1 has the information gain of:  0.046439344671015514\n",
      "The feature x2 has the information gain of:  0.6099865470109874\n",
      "The feature x3 has the information gain of:  0.0058021490143458365\n",
      "The feature x4 has the information gain of:  0.0912774462416801\n",
      "The feature x5 has the information gain of:  0.0058021490143458365\n",
      "You should split on the feature x2 for the root node of the decision tree because it has the largest information gain.\n"
     ]
    }
   ],
   "source": [
    "#Calculate the information gain\n",
    "#The information gain for a feature xi is: IG(Y, xi) = H(y) - H(y|xi)\n",
    "\n",
    "#For x1, H(y|x1) = \n",
    "#ent_x1 = ( 0.6 * math.log2(0.6) ) - ( (1 - 0.6) * math.log2(1-0.6))\n",
    "ent_x1 =( 0.6 * (1/2 * math.log2(2) + 1/2 * math.log2(2)) ) + ( 0.4 * (3/4 * math.log2(4/3) + 1/4 * math.log2(4)))\n",
    "\n",
    "#For x2, H(y|x2) = \n",
    "#ent_x2 = ( 0.5 * math.log2(0.5) ) - ( (1 - 0.5) * math.log2(1-0.5))\n",
    "ent_x2 = ( 0.5 * (1/5 * math.log2(5) + 4/5 * math.log2(5/4)) ) + ( 0.5 * (1 * math.log2(1) + 0))\n",
    "\n",
    "#For x3, H(y|x3) = \n",
    "#ent_x3 = ( 0.7 * math.log2(0.7) ) - ( (1 - 0.7) * math.log2(1-0.7))\n",
    "ent_x3 = ( 0.7 * (4/7 * math.log2(7/4) + 3/7 * math.log2(7/3)) ) + ( 0.3 * (2/3 * math.log2(3/2) + 1/3 * math.log2(3)))\n",
    "\n",
    "#For x4, H(y|x4) = \n",
    "#ent_x4 = ( 0.7 * math.log2(0.7) ) - ( (1 - 0.7) * math.log2(1-0.7))\n",
    "ent_x4 = ( 0.7 * (5/7 * math.log2(7/5) + 2/7 * math.log2(7/2)) ) + ( 0.3 * (1/3 * math.log2(3) + 2/3 * math.log2(3/2)))\n",
    "\n",
    "#For x5, H(y|x5) = \n",
    "#ent_x5 = ( 0.3 * math.log2(0.3) ) - ( (1 - 0.3) * math.log2(1-0.3))\n",
    "ent_x5 = ( 0.3 * (2/3 * math.log2(3/2) + 1/3 * math.log2(3)) ) + ( 0.7 * (4/7 * math.log2(7/4) + 3/7 * math.log2(7/3)))\n",
    "\n",
    "IG_x1 = entropy - ent_x1\n",
    "IG_x2 = entropy - ent_x2\n",
    "IG_x3 = entropy - ent_x3\n",
    "IG_x4 = entropy - ent_x4\n",
    "IG_x5 = entropy - ent_x5\n",
    "\n",
    "IG_list = [IG_x1, IG_x2, IG_x3, IG_x4, IG_x5]\n",
    "for i in range(len(IG_list)):\n",
    "    print(\"The feature x\" + str(i+1) + \" has the information gain of: \", IG_list[i])\n",
    "\n",
    "print(\"You should split on the feature x2 for the root node of the decision tree because it has the largest information gain.\")\n",
    "#You should split on the feature x2 for the root node of the decision tree because it has the largest information gain. "
   ]
  },
  {
   "cell_type": "markdown",
   "metadata": {},
   "source": [
    "### 1.3"
   ]
  },
  {
   "cell_type": "code",
   "execution_count": 11,
   "metadata": {},
   "outputs": [
    {
     "ename": "SyntaxError",
     "evalue": "'return' outside function (<ipython-input-11-9ec0b5fae2c7>, line 2)",
     "output_type": "error",
     "traceback": [
      "\u001b[1;36m  File \u001b[1;32m\"<ipython-input-11-9ec0b5fae2c7>\"\u001b[1;36m, line \u001b[1;32m2\u001b[0m\n\u001b[1;33m    return -1\u001b[0m\n\u001b[1;37m    ^\u001b[0m\n\u001b[1;31mSyntaxError\u001b[0m\u001b[1;31m:\u001b[0m 'return' outside function\n"
     ]
    }
   ],
   "source": [
    "if x2 == 1:\n",
    "    return -1\n",
    "else:\n",
    "    if x4 == 0:\n",
    "        return +1\n",
    "    else:\n",
    "        if x1 == 1:\n",
    "            return +1\n",
    "        else:\n",
    "            return -1"
   ]
  },
  {
   "cell_type": "markdown",
   "metadata": {},
   "source": [
    "# Problem 2"
   ]
  },
  {
   "cell_type": "code",
   "execution_count": 10,
   "metadata": {},
   "outputs": [],
   "source": [
    "from __future__ import division\n",
    "\n",
    "import numpy as np\n",
    "np.random.seed(0)\n",
    "\n",
    "import mltools as ml\n",
    "import sys\n",
    "sys.path.append('code')\n",
    "\n",
    "import matplotlib.pyplot as plt   # use matplotlib for plotting with inline plots\n",
    "plt.set_cmap('jet');\n",
    "%matplotlib inline\n",
    "import warnings\n",
    "warnings.filterwarnings('ignore'); # for deprecated matplotlib functions"
   ]
  },
  {
   "cell_type": "markdown",
   "metadata": {},
   "source": [
    "### 2.1"
   ]
  },
  {
   "cell_type": "code",
   "execution_count": 11,
   "metadata": {},
   "outputs": [
    {
     "name": "stdout",
     "output_type": "stream",
     "text": [
      "Data for the feature 1-> minimum:  0.0 \tmaximum:  110285.0 \tmean:  1321.1174134446987 \tvariance:  6747189.595085322\n",
      "Data for the feature 2-> minimum:  0.0 \tmaximum:  35.0 \tmean:  6.5916745251246125 \tvariance:  34.70690630279573\n",
      "Data for the feature 3-> minimum:  0.0 \tmaximum:  51536.0 \tmean:  1152.273237235619 \tvariance:  5376518.288798102\n",
      "Data for the feature 4-> minimum:  0.0 \tmaximum:  21768.0 \tmean:  234.8262548834703 \tvariance:  260120.83053297663\n",
      "Data for the feature 5-> minimum:  0.0 \tmaximum:  27210.0 \tmean:  289.75871211100633 \tvariance:  406615.8651128233\n"
     ]
    }
   ],
   "source": [
    "X = np.genfromtxt('data/X_train.txt', delimiter = ',')\n",
    "Y = np.genfromtxt('data/Y_train.txt', delimiter = ',')\n",
    "X, Y = ml.shuffleData(X,Y)\n",
    "\n",
    "X = X[:,:41]\n",
    "\n",
    "for i in range(5):\n",
    "    print(\"Data for the feature\", str(i+1) + \"-> minimum: \", min(X[:,i]), \"\\tmaximum: \", max(X[:,i]), \"\\tmean: \", np.mean(X[:,i]), \"\\tvariance: \", np.var(X[:,i]))\n",
    "\n"
   ]
  },
  {
   "cell_type": "markdown",
   "metadata": {},
   "source": [
    "### 2.2"
   ]
  },
  {
   "cell_type": "code",
   "execution_count": 12,
   "metadata": {},
   "outputs": [],
   "source": [
    "Xtr,Xva,Ytr,Yva = ml.splitData(X, Y, 0.5)    #Split data set into 50/50\n",
    "\n",
    "learner = ml.dtree.treeClassify(Xtr, Ytr, maxDepth = 50)"
   ]
  },
  {
   "cell_type": "code",
   "execution_count": 13,
   "metadata": {},
   "outputs": [
    {
     "name": "stdout",
     "output_type": "stream",
     "text": [
      "training error rate:  0.0\n",
      "validation error rate:  0.40689841013203987\n"
     ]
    }
   ],
   "source": [
    "print(\"training error rate: \", learner.err(Xtr, Ytr))\n",
    "print(\"validation error rate: \", learner.err(Xva, Yva))"
   ]
  },
  {
   "cell_type": "markdown",
   "metadata": {},
   "source": [
    "### 2.3"
   ]
  },
  {
   "cell_type": "code",
   "execution_count": 18,
   "metadata": {},
   "outputs": [
    {
     "data": {
      "image/png": "[encoded data removed]",
      "text/plain": [
       "<Figure size 432x288 with 1 Axes>"
      ]
     },
     "metadata": {
      "needs_background": "light"
     },
     "output_type": "display_data"
    }
   ],
   "source": [
    "err_tr = np.zeros(16)\n",
    "err_va = np.zeros(16)\n",
    "\n",
    "for i in range(16):\n",
    "    new_learner = ml.dtree.treeClassify(Xtr, Ytr, maxDepth = i)\n",
    "    \n",
    "    err_tr[i] = new_learner.err(Xtr, Ytr)\n",
    "    err_va[i] = new_learner.err(Xva, Yva)\n",
    "    \n",
    "plt.plot(err_tr, '-r')\n",
    "plt.plot(err_va, '-g')\n",
    "plt.xlabel(\"maxDepth\")\n",
    "plt.ylabel(\"error rate\")\n",
    "plt.legend(['Training error', 'Validation error'])\n",
    "plt.show()\n",
    "\n"
   ]
  },
  {
   "cell_type": "markdown",
   "metadata": {},
   "source": [
    "2.3 Continued.\n",
    "Models with higher maxDepth have higer complexity. The maxDepth of 6 provides the best decision tree model. It is neither underfitting nor overfitting. If I choose a value higher than 6, it may be overfittinig because the training error drastically decreases while validation error remains steady. If I choose a value lower than 6, it may be underfitting."
   ]
  },
  {
   "cell_type": "markdown",
   "metadata": {},
   "source": [
    "### 2.4"
   ]
  },
  {
   "cell_type": "code",
   "execution_count": 19,
   "metadata": {},
   "outputs": [
    {
     "data": {
      "image/png": "[encoded data removed]",
      "text/plain": [
       "<Figure size 432x288 with 1 Axes>"
      ]
     },
     "metadata": {
      "needs_background": "light"
     },
     "output_type": "display_data"
    }
   ],
   "source": [
    "min_prt = [1, 2, 4, 8, 16, 32, 64, 128, 256, 512, 1024, 2048, 4096, 8192]\n",
    "\n",
    "err_tr4 = np.zeros(14)\n",
    "err_va4 = np.zeros(14)\n",
    "\n",
    "for i in range(0,14):\n",
    "    learner_4 = ml.dtree.treeClassify(Xtr, Ytr, maxDepth = 50, minParent = 2**i)\n",
    "    err_tr4[i] = learner_4.err(Xtr, Ytr)\n",
    "    err_va4[i] = learner_4.err(Xva, Yva)\n",
    "    \n",
    "plt.plot(min_prt, err_tr4, '-r')\n",
    "plt.plot(min_prt, err_va4, '-g')\n",
    "plt.xlabel(\"minParent\")\n",
    "plt.ylabel(\"error rate\")\n",
    "\n",
    "plt.legend(['Training error', 'Validation error'])\n",
    "plt.show()\n",
    "\n",
    "\n",
    "\n",
    "\n"
   ]
  },
  {
   "cell_type": "markdown",
   "metadata": {},
   "source": [
    "2.4 Continued.\n",
    "Models with higer minParent have lower complexity. The minParent of 2^8 provides the best decision tree model. If I choose a value lower than 2^8, it will be overfitting; training error drastically decreases. If I choose a value larger than 2^8, then it may be underfitting as both training error and validation error are high."
   ]
  },
  {
   "cell_type": "markdown",
   "metadata": {},
   "source": [
    "### 2.6"
   ]
  },
  {
   "cell_type": "code",
   "execution_count": 17,
   "metadata": {},
   "outputs": [
    {
     "data": {
      "image/png": "[encoded data removed]",
      "text/plain": [
       "<Figure size 432x288 with 1 Axes>"
      ]
     },
     "metadata": {
      "needs_background": "light"
     },
     "output_type": "display_data"
    },
    {
     "name": "stdout",
     "output_type": "stream",
     "text": [
      "AUC score for training data:  0.7302760762911139\n",
      "AUC score for validation data:  0.6875349854303666\n"
     ]
    }
   ],
   "source": [
    "perfect_learner = ml.dtree.treeClassify(Xtr, Ytr, maxDepth = 6, minParent = 2**8)\n",
    "roc_tr = perfect_learner.roc(Xtr, Ytr)\n",
    "roc_va = perfect_learner.roc(Xva, Yva)\n",
    "\n",
    "plt.plot(roc_tr[0], roc_tr[1], '-r')\n",
    "plt.plot(roc_va[0], roc_va[1], '-g')\n",
    "plt.xlabel(\"False Positive Rate\")\n",
    "plt.ylabel(\"True Positive Rate\")\n",
    "\n",
    "plt.title('ROC curve')\n",
    "plt.legend(['Training error', 'Validation error'])\n",
    "plt.show()\n",
    "\n",
    "print(\"AUC score for training data: \", perfect_learner.auc(Xtr, Ytr))\n",
    "print(\"AUC score for validation data: \", perfect_learner.auc(Xva, Yva))"
   ]
  },
  {
   "cell_type": "markdown",
   "metadata": {},
   "source": [
    "### 2.7"
   ]
  },
  {
   "cell_type": "code",
   "execution_count": 5,
   "metadata": {},
   "outputs": [
    {
     "name": "stdout",
     "output_type": "stream",
     "text": [
      "AUC score for this data:  0.7279320093117322\n",
      "Accuracy rate for this data :  0.6562036912299609\n"
     ]
    }
   ],
   "source": [
    "real_learner = ml.dtree.treeClassify(X, Y, maxDepth = 6, minParent = 2 ** 8)\n",
    "print(\"AUC score for this data: \", real_learner.auc(X,Y))\n",
    "print(\"Accuracy rate for this data : \", 1 - real_learner.err(X,Y))\n",
    "\n",
    "Xte = np.genfromtxt('data/X_test.txt', delimiter = ',')\n",
    "Yte = np.vstack((np.arange(Xte.shape[0]), real_learner.predictSoft(Xte)[:,1])).T\n",
    "\n"
   ]
  },
  {
   "cell_type": "code",
   "execution_count": 10,
   "metadata": {},
   "outputs": [],
   "source": [
    "np.savetxt('Y_submit.txt', Yte, '%d,%.2f', header = 'Id,Predicted', comments = '', delimiter = ',')"
   ]
  },
  {
   "cell_type": "markdown",
   "metadata": {},
   "source": [
    "Kaggle Username is: Sanghun Kim. The leaderboard AUC is 0.70525. "
   ]
  },
  {
   "cell_type": "markdown",
   "metadata": {},
   "source": [
    "# Problem 3"
   ]
  },
  {
   "cell_type": "markdown",
   "metadata": {},
   "source": [
    "### 3.1.1 Random Forests"
   ]
  },
  {
   "cell_type": "code",
   "execution_count": 21,
   "metadata": {},
   "outputs": [],
   "source": [
    "X_all = np.genfromtxt('data/X_train.txt', delimiter = ',')\n",
    "Y_all = np.genfromtxt('data/Y_train.txt', delimiter = ',')\n",
    "X_all, Y_all = ml.shuffleData(X_all,Y_all)\n",
    "\n",
    "Xtr_all,Xva_all,Ytr_all,Yva_all = ml.splitData(X_all, Y_all, 0.5)\n",
    "\n",
    "m, n = Xtr_all.shape\n",
    "classifiers = [None] * 25\n",
    "\n",
    "err_tr3 = np.zeros(25)\n",
    "err_va3 = np.zeros(25)\n",
    "\n",
    "for i in range(0, 25):\n",
    "    Xi, Yi = ml.bootstrapData(Xtr_all, Ytr_all)\n",
    "    rf_learner = ml.dtree.treeClassify(Xi, Yi, maxDepth = 30, minLeaf = 4, nFeatures = 60)\n",
    "    classifiers[i] = rf_learner\n",
    "    \n",
    "    err_tr3[i] = rf_learner.err(Xtr_all, Ytr_all)\n",
    "    err_va3[i] = rf_learner.err(Xva_all, Yva_all)\n",
    "\n",
    "#np.mean(err_tr3)\n",
    "#np.mean(err_va3)\n",
    "\n",
    "\n",
    "\n",
    "\n"
   ]
  },
  {
   "cell_type": "code",
   "execution_count": 24,
   "metadata": {},
   "outputs": [
    {
     "data": {
      "image/png": "[encoded data removed]",
      "text/plain": [
       "<Figure size 432x288 with 1 Axes>"
      ]
     },
     "metadata": {
      "needs_background": "light"
     },
     "output_type": "display_data"
    }
   ],
   "source": [
    "num_learners = [1,5,10,25]\n",
    "\n",
    "tr_mean = np.zeros(4)\n",
    "va_mean = np.zeros(4)\n",
    "\n",
    "for i, v in enumerate([1,5,10,25]):\n",
    "    #print(i, v)\n",
    "    tr_mean[i] = np.mean(err_tr3[:v])\n",
    "    va_mean[i] = np.mean(err_va3[:v])\n",
    "    \n",
    "   \n",
    "    \n",
    "plt.plot(num_learners, tr_mean, '-r')\n",
    "plt.plot(num_learners, va_mean, '-g')\n",
    "plt.xticks(num_learners)\n",
    "plt.xlabel(\"number of learners\")\n",
    "plt.ylabel(\"error rate\")\n",
    "\n",
    "plt.legend(['Training error', 'Validation error'])\n",
    "plt.show()\n",
    "\n",
    "\n",
    "\n",
    "\n"
   ]
  },
  {
   "cell_type": "markdown",
   "metadata": {},
   "source": [
    "### 3.1.2"
   ]
  },
  {
   "cell_type": "code",
   "execution_count": 84,
   "metadata": {},
   "outputs": [],
   "source": [
    "classifiers2 = [None] * 25\n",
    "for i in range(0, 25):\n",
    "    Xi2, Yi2 = ml.bootstrapData(X_all, Y_all)\n",
    "    rf_learner2 = ml.dtree.treeClassify(Xi2, Yi2, maxDepth = 50, minLeaf = 4, nFeatures = 60, minParent = 2**8)\n",
    "    classifiers2[i] = rf_learner2\n",
    "\n",
    "#for i in range(len(classifiers2)):\n",
    "#    predictions[:,i] = classifiers2[i].predict(Xte)"
   ]
  },
  {
   "cell_type": "code",
   "execution_count": 1,
   "metadata": {},
   "outputs": [
    {
     "ename": "NameError",
     "evalue": "name 'classifiers2' is not defined",
     "output_type": "error",
     "traceback": [
      "\u001b[1;31m---------------------------------------------------------------------------\u001b[0m",
      "\u001b[1;31mNameError\u001b[0m                                 Traceback (most recent call last)",
      "\u001b[1;32m<ipython-input-1-7a40022f6821>\u001b[0m in \u001b[0;36m<module>\u001b[1;34m\u001b[0m\n\u001b[0;32m      1\u001b[0m \u001b[0mpred2\u001b[0m \u001b[1;33m=\u001b[0m \u001b[1;33m[\u001b[0m\u001b[1;33m]\u001b[0m\u001b[1;33m\u001b[0m\u001b[1;33m\u001b[0m\u001b[0m\n\u001b[1;32m----> 2\u001b[1;33m \u001b[1;32mfor\u001b[0m \u001b[0mi\u001b[0m \u001b[1;32min\u001b[0m \u001b[0mrange\u001b[0m\u001b[1;33m(\u001b[0m\u001b[0mlen\u001b[0m\u001b[1;33m(\u001b[0m\u001b[0mclassifiers2\u001b[0m\u001b[1;33m)\u001b[0m\u001b[1;33m)\u001b[0m\u001b[1;33m:\u001b[0m\u001b[1;33m\u001b[0m\u001b[1;33m\u001b[0m\u001b[0m\n\u001b[0m\u001b[0;32m      3\u001b[0m     \u001b[0mpredictions\u001b[0m \u001b[1;33m=\u001b[0m \u001b[0mclassifiers2\u001b[0m\u001b[1;33m[\u001b[0m\u001b[0mi\u001b[0m\u001b[1;33m]\u001b[0m\u001b[1;33m.\u001b[0m\u001b[0mpredictSoft\u001b[0m\u001b[1;33m(\u001b[0m\u001b[0mXte\u001b[0m\u001b[1;33m)\u001b[0m\u001b[1;33m[\u001b[0m\u001b[1;33m:\u001b[0m\u001b[1;33m,\u001b[0m\u001b[1;36m1\u001b[0m\u001b[1;33m]\u001b[0m\u001b[1;33m\u001b[0m\u001b[1;33m\u001b[0m\u001b[0m\n\u001b[0;32m      4\u001b[0m     \u001b[0mpred2\u001b[0m\u001b[1;33m.\u001b[0m\u001b[0mappend\u001b[0m\u001b[1;33m(\u001b[0m\u001b[0mpredictions\u001b[0m\u001b[1;33m)\u001b[0m\u001b[1;33m\u001b[0m\u001b[1;33m\u001b[0m\u001b[0m\n\u001b[0;32m      5\u001b[0m \u001b[0mpred2\u001b[0m \u001b[1;33m=\u001b[0m \u001b[0mnp\u001b[0m\u001b[1;33m.\u001b[0m\u001b[0masarray\u001b[0m\u001b[1;33m(\u001b[0m\u001b[0mpred2\u001b[0m\u001b[1;33m)\u001b[0m\u001b[1;33m\u001b[0m\u001b[1;33m\u001b[0m\u001b[0m\n",
      "\u001b[1;31mNameError\u001b[0m: name 'classifiers2' is not defined"
     ]
    }
   ],
   "source": [
    "pred2 = []\n",
    "for i in range(len(classifiers2)):\n",
    "    predictions = classifiers2[i].predictSoft(Xte)[:,1]\n",
    "    pred2.append(predictions)\n",
    "pred2 = np.asarray(pred2)\n",
    "\n",
    "#pred2 = np.mean(pred2)\n",
    "output = np.zeros(7422)\n",
    "for i in range(0,7422):\n",
    "    tot = 0\n",
    "    for x in pred2:\n",
    "        tot += x[i]\n",
    "    output[i] = tot/25"
   ]
  },
  {
   "cell_type": "code",
   "execution_count": 86,
   "metadata": {},
   "outputs": [],
   "source": [
    "#result = np.mean(predictions, axis = 1)\n",
    "Yte2 = np.vstack((np.arange(Xte.shape[0]), output)).T\n",
    "np.savetxt('Y_submit2.txt', Yte2, '%d,%.2f', header = 'Id,Predicted', comments = '', delimiter = ',')"
   ]
  },
  {
   "cell_type": "markdown",
   "metadata": {},
   "source": [
    "Kaggle Username: Sanghun Kim.  AUC score: 0.73899"
   ]
  },
  {
   "cell_type": "markdown",
   "metadata": {},
   "source": [
    "### 4 Statement of Collaboration"
   ]
  },
  {
   "cell_type": "markdown",
   "metadata": {},
   "source": [
    "I mostly worked independently. I only discussed with Yulim Chang for some of the problem 1. I read some piazza threads on problem 3 for clarification of instructions like how many features we are allowed to use and whether we should use predict or predictSoft for problem 3.1.2. "
   ]
  },
  {
   "cell_type": "code",
   "execution_count": null,
   "metadata": {},
   "outputs": [],
   "source": []
  }
 ],
 "metadata": {
  "kernelspec": {
   "display_name": "Python 3",
   "language": "python",
   "name": "python3"
  },
  "language_info": {
   "codemirror_mode": {
    "name": "ipython",
    "version": 3
   },
   "file_extension": ".py",
   "mimetype": "text/x-python",
   "name": "python",
   "nbconvert_exporter": "python",
   "pygments_lexer": "ipython3",
   "version": "3.7.4"
  }
 },
 "nbformat": 4,
 "nbformat_minor": 2
}
