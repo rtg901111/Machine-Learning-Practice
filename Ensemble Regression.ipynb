{
 "cells": [
  {
   "cell_type": "code",
   "execution_count": 34,
   "metadata": {},
   "outputs": [],
   "source": [
    "from __future__ import division\n",
    "\n",
    "import numpy as np\n",
    "np.random.seed(0)\n",
    "\n",
    "import mltools as ml\n",
    "import sys\n",
    "sys.path.append('code')\n",
    "\n",
    "import matplotlib.pyplot as plt   # use matplotlib for plotting with inline plots\n",
    "plt.set_cmap('jet');\n",
    "%matplotlib inline\n",
    "import warnings\n",
    "warnings.filterwarnings('ignore'); # for deprecated matplotlib functions"
   ]
  },
  {
   "cell_type": "code",
   "execution_count": 35,
   "metadata": {},
   "outputs": [],
   "source": [
    "X = np.genfromtxt('X_train.txt', delimiter = ',')\n",
    "Y = np.genfromtxt('Y_train.txt', delimiter = ',')\n",
    "Xte = np.genfromtxt('X_test.txt', delimiter = ',')\n",
    "X, Y = ml.shuffleData(X,Y)\n",
    "\n",
    "Xreal = X[:,0:41]\n",
    "Xdiscrete = X[:, 41:69]\n",
    "Xbinary = X[:, 69:]\n"
   ]
  },
  {
   "cell_type": "code",
   "execution_count": 36,
   "metadata": {},
   "outputs": [],
   "source": [
    "Xtr,Xva,Ytr,Yva = ml.splitData(X, Y, 0.8) #Split data into 80/20 (Training 80, validation 20)\n",
    "Xtr,param=ml.transforms.rescale(Xtr)\n",
    "Xva,_=ml.transforms.rescale(Xva,param)\n",
    "Xte,_=ml.transforms.rescale(Xte,param)\n",
    "#X,_ = ml.transforms.rescale(X, param)       #?????????????\n"
   ]
  },
  {
   "cell_type": "code",
   "execution_count": 155,
   "metadata": {},
   "outputs": [
    {
     "ename": "KeyboardInterrupt",
     "evalue": "",
     "output_type": "error",
     "traceback": [
      "\u001b[1;31m---------------------------------------------------------------------------\u001b[0m",
      "\u001b[1;31mKeyboardInterrupt\u001b[0m                         Traceback (most recent call last)",
      "\u001b[1;32m<ipython-input-155-17cd703601a6>\u001b[0m in \u001b[0;36m<module>\u001b[1;34m\u001b[0m\n\u001b[0;32m      4\u001b[0m \u001b[1;33m\u001b[0m\u001b[0m\n\u001b[0;32m      5\u001b[0m \u001b[1;32mfor\u001b[0m \u001b[0mi\u001b[0m \u001b[1;32min\u001b[0m \u001b[0mrange\u001b[0m\u001b[1;33m(\u001b[0m\u001b[1;36m16\u001b[0m\u001b[1;33m)\u001b[0m\u001b[1;33m:\u001b[0m\u001b[1;33m\u001b[0m\u001b[1;33m\u001b[0m\u001b[0m\n\u001b[1;32m----> 6\u001b[1;33m     \u001b[0mnew_learner\u001b[0m \u001b[1;33m=\u001b[0m \u001b[0mml\u001b[0m\u001b[1;33m.\u001b[0m\u001b[0mdtree\u001b[0m\u001b[1;33m.\u001b[0m\u001b[0mtreeClassify\u001b[0m\u001b[1;33m(\u001b[0m\u001b[0mXtr\u001b[0m\u001b[1;33m,\u001b[0m \u001b[0mYtr\u001b[0m\u001b[1;33m,\u001b[0m \u001b[0mmaxDepth\u001b[0m \u001b[1;33m=\u001b[0m \u001b[0mi\u001b[0m\u001b[1;33m)\u001b[0m\u001b[1;33m\u001b[0m\u001b[1;33m\u001b[0m\u001b[0m\n\u001b[0m\u001b[0;32m      7\u001b[0m \u001b[1;33m\u001b[0m\u001b[0m\n\u001b[0;32m      8\u001b[0m     \u001b[0merr_tr\u001b[0m\u001b[1;33m[\u001b[0m\u001b[0mi\u001b[0m\u001b[1;33m]\u001b[0m \u001b[1;33m=\u001b[0m \u001b[0mnew_learner\u001b[0m\u001b[1;33m.\u001b[0m\u001b[0merr\u001b[0m\u001b[1;33m(\u001b[0m\u001b[0mXtr\u001b[0m\u001b[1;33m,\u001b[0m \u001b[0mYtr\u001b[0m\u001b[1;33m)\u001b[0m\u001b[1;33m\u001b[0m\u001b[1;33m\u001b[0m\u001b[0m\n",
      "\u001b[1;32m~\\Desktop\\CS 178 Final Project\\mltools\\dtree.py\u001b[0m in \u001b[0;36m__init__\u001b[1;34m(self, *args, **kwargs)\u001b[0m\n\u001b[0;32m    266\u001b[0m         \u001b[1;34m\"\"\"Constructor for decision tree regressor; all args passed to train\"\"\"\u001b[0m\u001b[1;33m\u001b[0m\u001b[1;33m\u001b[0m\u001b[0m\n\u001b[0;32m    267\u001b[0m         \u001b[0mself\u001b[0m\u001b[1;33m.\u001b[0m\u001b[0mclasses\u001b[0m \u001b[1;33m=\u001b[0m \u001b[1;33m[\u001b[0m\u001b[1;33m]\u001b[0m\u001b[1;33m\u001b[0m\u001b[1;33m\u001b[0m\u001b[0m\n\u001b[1;32m--> 268\u001b[1;33m         \u001b[0mtreeBase\u001b[0m\u001b[1;33m.\u001b[0m\u001b[0m__init__\u001b[0m\u001b[1;33m(\u001b[0m\u001b[0mself\u001b[0m\u001b[1;33m,\u001b[0m\u001b[1;33m*\u001b[0m\u001b[0margs\u001b[0m\u001b[1;33m,\u001b[0m\u001b[1;33m**\u001b[0m\u001b[0mkwargs\u001b[0m\u001b[1;33m)\u001b[0m\u001b[1;33m;\u001b[0m\u001b[1;33m\u001b[0m\u001b[1;33m\u001b[0m\u001b[0m\n\u001b[0m\u001b[0;32m    269\u001b[0m         \u001b[1;31m#super(treeClassify,self).__init__(*args,**kwargs);\u001b[0m\u001b[1;33m\u001b[0m\u001b[1;33m\u001b[0m\u001b[1;33m\u001b[0m\u001b[0m\n\u001b[0;32m    270\u001b[0m \u001b[1;33m\u001b[0m\u001b[0m\n",
      "\u001b[1;32m~\\Desktop\\CS 178 Final Project\\mltools\\dtree.py\u001b[0m in \u001b[0;36m__init__\u001b[1;34m(self, *args, **kwargs)\u001b[0m\n\u001b[0;32m     40\u001b[0m \u001b[1;33m\u001b[0m\u001b[0m\n\u001b[0;32m     41\u001b[0m         \u001b[1;32mif\u001b[0m \u001b[0mlen\u001b[0m\u001b[1;33m(\u001b[0m\u001b[0margs\u001b[0m\u001b[1;33m)\u001b[0m \u001b[1;32mor\u001b[0m \u001b[0mlen\u001b[0m\u001b[1;33m(\u001b[0m\u001b[0mkwargs\u001b[0m\u001b[1;33m)\u001b[0m\u001b[1;33m:\u001b[0m     \u001b[1;31m# if we were given optional arguments,\u001b[0m\u001b[1;33m\u001b[0m\u001b[1;33m\u001b[0m\u001b[0m\n\u001b[1;32m---> 42\u001b[1;33m             \u001b[0mself\u001b[0m\u001b[1;33m.\u001b[0m\u001b[0mtrain\u001b[0m\u001b[1;33m(\u001b[0m\u001b[1;33m*\u001b[0m\u001b[0margs\u001b[0m\u001b[1;33m,\u001b[0m \u001b[1;33m**\u001b[0m\u001b[0mkwargs\u001b[0m\u001b[1;33m)\u001b[0m    \u001b[1;31m#  just pass them through to \"train\"\u001b[0m\u001b[1;33m\u001b[0m\u001b[1;33m\u001b[0m\u001b[0m\n\u001b[0m\u001b[0;32m     43\u001b[0m \u001b[1;33m\u001b[0m\u001b[0m\n\u001b[0;32m     44\u001b[0m \u001b[1;33m\u001b[0m\u001b[0m\n",
      "\u001b[1;32m~\\Desktop\\CS 178 Final Project\\mltools\\dtree.py\u001b[0m in \u001b[0;36mtrain\u001b[1;34m(self, X, Y, *args, **kwargs)\u001b[0m\n\u001b[0;32m    282\u001b[0m         \"\"\"\n\u001b[0;32m    283\u001b[0m         \u001b[0mself\u001b[0m\u001b[1;33m.\u001b[0m\u001b[0mclasses\u001b[0m \u001b[1;33m=\u001b[0m \u001b[0mlist\u001b[0m\u001b[1;33m(\u001b[0m\u001b[0mnp\u001b[0m\u001b[1;33m.\u001b[0m\u001b[0munique\u001b[0m\u001b[1;33m(\u001b[0m\u001b[0mY\u001b[0m\u001b[1;33m)\u001b[0m\u001b[1;33m)\u001b[0m \u001b[1;32mif\u001b[0m \u001b[0mlen\u001b[0m\u001b[1;33m(\u001b[0m\u001b[0mself\u001b[0m\u001b[1;33m.\u001b[0m\u001b[0mclasses\u001b[0m\u001b[1;33m)\u001b[0m \u001b[1;33m==\u001b[0m \u001b[1;36m0\u001b[0m \u001b[1;32melse\u001b[0m \u001b[0mself\u001b[0m\u001b[1;33m.\u001b[0m\u001b[0mclasses\u001b[0m\u001b[1;33m\u001b[0m\u001b[1;33m\u001b[0m\u001b[0m\n\u001b[1;32m--> 284\u001b[1;33m         \u001b[0mtreeBase\u001b[0m\u001b[1;33m.\u001b[0m\u001b[0mtrain\u001b[0m\u001b[1;33m(\u001b[0m\u001b[0mself\u001b[0m\u001b[1;33m,\u001b[0m\u001b[0mX\u001b[0m\u001b[1;33m,\u001b[0m\u001b[0mto1ofK\u001b[0m\u001b[1;33m(\u001b[0m\u001b[0mY\u001b[0m\u001b[1;33m,\u001b[0m\u001b[0mself\u001b[0m\u001b[1;33m.\u001b[0m\u001b[0mclasses\u001b[0m\u001b[1;33m)\u001b[0m\u001b[1;33m.\u001b[0m\u001b[0mastype\u001b[0m\u001b[1;33m(\u001b[0m\u001b[0mfloat\u001b[0m\u001b[1;33m)\u001b[0m\u001b[1;33m,\u001b[0m\u001b[1;33m*\u001b[0m\u001b[0margs\u001b[0m\u001b[1;33m,\u001b[0m\u001b[1;33m**\u001b[0m\u001b[0mkwargs\u001b[0m\u001b[1;33m)\u001b[0m\u001b[1;33m;\u001b[0m\u001b[1;33m\u001b[0m\u001b[1;33m\u001b[0m\u001b[0m\n\u001b[0m\u001b[0;32m    285\u001b[0m \u001b[1;33m\u001b[0m\u001b[0m\n\u001b[0;32m    286\u001b[0m     \u001b[1;32mdef\u001b[0m \u001b[0mpredict\u001b[0m\u001b[1;33m(\u001b[0m\u001b[0mself\u001b[0m\u001b[1;33m,\u001b[0m\u001b[0mX\u001b[0m\u001b[1;33m)\u001b[0m\u001b[1;33m:\u001b[0m\u001b[1;33m\u001b[0m\u001b[1;33m\u001b[0m\u001b[0m\n",
      "\u001b[1;32m~\\Desktop\\CS 178 Final Project\\mltools\\dtree.py\u001b[0m in \u001b[0;36mtrain\u001b[1;34m(self, X, Y, minParent, maxDepth, minLeaf, nFeatures)\u001b[0m\n\u001b[0;32m     92\u001b[0m         \u001b[0mself\u001b[0m\u001b[1;33m.\u001b[0m\u001b[0msz\u001b[0m \u001b[1;33m=\u001b[0m \u001b[1;36m0\u001b[0m              \u001b[1;31m# start building at the root\u001b[0m\u001b[1;33m\u001b[0m\u001b[1;33m\u001b[0m\u001b[0m\n\u001b[0;32m     93\u001b[0m \u001b[1;33m\u001b[0m\u001b[0m\n\u001b[1;32m---> 94\u001b[1;33m         \u001b[0mself\u001b[0m\u001b[1;33m.\u001b[0m\u001b[0m__train_recursive\u001b[0m\u001b[1;33m(\u001b[0m\u001b[0mX\u001b[0m\u001b[1;33m,\u001b[0m \u001b[0mY\u001b[0m\u001b[1;33m,\u001b[0m \u001b[1;36m0\u001b[0m\u001b[1;33m,\u001b[0m \u001b[0mminParent\u001b[0m\u001b[1;33m,\u001b[0m \u001b[0mmaxDepth\u001b[0m\u001b[1;33m,\u001b[0m \u001b[0mminLeaf\u001b[0m\u001b[1;33m,\u001b[0m \u001b[0mnFeatures\u001b[0m\u001b[1;33m)\u001b[0m\u001b[1;33m\u001b[0m\u001b[1;33m\u001b[0m\u001b[0m\n\u001b[0m\u001b[0;32m     95\u001b[0m \u001b[1;33m\u001b[0m\u001b[0m\n\u001b[0;32m     96\u001b[0m         \u001b[0mself\u001b[0m\u001b[1;33m.\u001b[0m\u001b[0mL\u001b[0m \u001b[1;33m=\u001b[0m \u001b[0mself\u001b[0m\u001b[1;33m.\u001b[0m\u001b[0mL\u001b[0m\u001b[1;33m[\u001b[0m\u001b[1;36m0\u001b[0m\u001b[1;33m:\u001b[0m\u001b[0mself\u001b[0m\u001b[1;33m.\u001b[0m\u001b[0msz\u001b[0m\u001b[1;33m]\u001b[0m                              \u001b[1;31m# store returned data into object\u001b[0m\u001b[1;33m\u001b[0m\u001b[1;33m\u001b[0m\u001b[0m\n",
      "\u001b[1;32m~\\Desktop\\CS 178 Final Project\\mltools\\dtree.py\u001b[0m in \u001b[0;36m__train_recursive\u001b[1;34m(self, X, Y, depth, minParent, maxDepth, minLeaf, nFeatures)\u001b[0m\n\u001b[0;32m    163\u001b[0m         \u001b[1;31m# recur left\u001b[0m\u001b[1;33m\u001b[0m\u001b[1;33m\u001b[0m\u001b[1;33m\u001b[0m\u001b[0m\n\u001b[0;32m    164\u001b[0m         \u001b[0mself\u001b[0m\u001b[1;33m.\u001b[0m\u001b[0mL\u001b[0m\u001b[1;33m[\u001b[0m\u001b[0mmy_idx\u001b[0m\u001b[1;33m]\u001b[0m \u001b[1;33m=\u001b[0m \u001b[0mself\u001b[0m\u001b[1;33m.\u001b[0m\u001b[0msz\u001b[0m\u001b[1;33m\u001b[0m\u001b[1;33m\u001b[0m\u001b[0m\n\u001b[1;32m--> 165\u001b[1;33m         \u001b[0mself\u001b[0m\u001b[1;33m.\u001b[0m\u001b[0m__train_recursive\u001b[0m\u001b[1;33m(\u001b[0m\u001b[0mX\u001b[0m\u001b[1;33m[\u001b[0m\u001b[0mgo_left\u001b[0m\u001b[1;33m,\u001b[0m\u001b[1;33m:\u001b[0m\u001b[1;33m]\u001b[0m\u001b[1;33m,\u001b[0m \u001b[0mY\u001b[0m\u001b[1;33m[\u001b[0m\u001b[0mgo_left\u001b[0m\u001b[1;33m]\u001b[0m\u001b[1;33m,\u001b[0m \u001b[0mdepth\u001b[0m\u001b[1;33m+\u001b[0m\u001b[1;36m1\u001b[0m\u001b[1;33m,\u001b[0m \u001b[0mminParent\u001b[0m\u001b[1;33m,\u001b[0m \u001b[0mmaxDepth\u001b[0m\u001b[1;33m,\u001b[0m \u001b[0mminLeaf\u001b[0m\u001b[1;33m,\u001b[0m \u001b[0mnFeatures\u001b[0m\u001b[1;33m)\u001b[0m\u001b[1;33m\u001b[0m\u001b[1;33m\u001b[0m\u001b[0m\n\u001b[0m\u001b[0;32m    166\u001b[0m \u001b[1;33m\u001b[0m\u001b[0m\n\u001b[0;32m    167\u001b[0m         \u001b[1;31m# recur right\u001b[0m\u001b[1;33m\u001b[0m\u001b[1;33m\u001b[0m\u001b[1;33m\u001b[0m\u001b[0m\n",
      "\u001b[1;32m~\\Desktop\\CS 178 Final Project\\mltools\\dtree.py\u001b[0m in \u001b[0;36m__train_recursive\u001b[1;34m(self, X, Y, depth, minParent, maxDepth, minLeaf, nFeatures)\u001b[0m\n\u001b[0;32m    163\u001b[0m         \u001b[1;31m# recur left\u001b[0m\u001b[1;33m\u001b[0m\u001b[1;33m\u001b[0m\u001b[1;33m\u001b[0m\u001b[0m\n\u001b[0;32m    164\u001b[0m         \u001b[0mself\u001b[0m\u001b[1;33m.\u001b[0m\u001b[0mL\u001b[0m\u001b[1;33m[\u001b[0m\u001b[0mmy_idx\u001b[0m\u001b[1;33m]\u001b[0m \u001b[1;33m=\u001b[0m \u001b[0mself\u001b[0m\u001b[1;33m.\u001b[0m\u001b[0msz\u001b[0m\u001b[1;33m\u001b[0m\u001b[1;33m\u001b[0m\u001b[0m\n\u001b[1;32m--> 165\u001b[1;33m         \u001b[0mself\u001b[0m\u001b[1;33m.\u001b[0m\u001b[0m__train_recursive\u001b[0m\u001b[1;33m(\u001b[0m\u001b[0mX\u001b[0m\u001b[1;33m[\u001b[0m\u001b[0mgo_left\u001b[0m\u001b[1;33m,\u001b[0m\u001b[1;33m:\u001b[0m\u001b[1;33m]\u001b[0m\u001b[1;33m,\u001b[0m \u001b[0mY\u001b[0m\u001b[1;33m[\u001b[0m\u001b[0mgo_left\u001b[0m\u001b[1;33m]\u001b[0m\u001b[1;33m,\u001b[0m \u001b[0mdepth\u001b[0m\u001b[1;33m+\u001b[0m\u001b[1;36m1\u001b[0m\u001b[1;33m,\u001b[0m \u001b[0mminParent\u001b[0m\u001b[1;33m,\u001b[0m \u001b[0mmaxDepth\u001b[0m\u001b[1;33m,\u001b[0m \u001b[0mminLeaf\u001b[0m\u001b[1;33m,\u001b[0m \u001b[0mnFeatures\u001b[0m\u001b[1;33m)\u001b[0m\u001b[1;33m\u001b[0m\u001b[1;33m\u001b[0m\u001b[0m\n\u001b[0m\u001b[0;32m    166\u001b[0m \u001b[1;33m\u001b[0m\u001b[0m\n\u001b[0;32m    167\u001b[0m         \u001b[1;31m# recur right\u001b[0m\u001b[1;33m\u001b[0m\u001b[1;33m\u001b[0m\u001b[1;33m\u001b[0m\u001b[0m\n",
      "\u001b[1;32m~\\Desktop\\CS 178 Final Project\\mltools\\dtree.py\u001b[0m in \u001b[0;36m__train_recursive\u001b[1;34m(self, X, Y, depth, minParent, maxDepth, minLeaf, nFeatures)\u001b[0m\n\u001b[0;32m    163\u001b[0m         \u001b[1;31m# recur left\u001b[0m\u001b[1;33m\u001b[0m\u001b[1;33m\u001b[0m\u001b[1;33m\u001b[0m\u001b[0m\n\u001b[0;32m    164\u001b[0m         \u001b[0mself\u001b[0m\u001b[1;33m.\u001b[0m\u001b[0mL\u001b[0m\u001b[1;33m[\u001b[0m\u001b[0mmy_idx\u001b[0m\u001b[1;33m]\u001b[0m \u001b[1;33m=\u001b[0m \u001b[0mself\u001b[0m\u001b[1;33m.\u001b[0m\u001b[0msz\u001b[0m\u001b[1;33m\u001b[0m\u001b[1;33m\u001b[0m\u001b[0m\n\u001b[1;32m--> 165\u001b[1;33m         \u001b[0mself\u001b[0m\u001b[1;33m.\u001b[0m\u001b[0m__train_recursive\u001b[0m\u001b[1;33m(\u001b[0m\u001b[0mX\u001b[0m\u001b[1;33m[\u001b[0m\u001b[0mgo_left\u001b[0m\u001b[1;33m,\u001b[0m\u001b[1;33m:\u001b[0m\u001b[1;33m]\u001b[0m\u001b[1;33m,\u001b[0m \u001b[0mY\u001b[0m\u001b[1;33m[\u001b[0m\u001b[0mgo_left\u001b[0m\u001b[1;33m]\u001b[0m\u001b[1;33m,\u001b[0m \u001b[0mdepth\u001b[0m\u001b[1;33m+\u001b[0m\u001b[1;36m1\u001b[0m\u001b[1;33m,\u001b[0m \u001b[0mminParent\u001b[0m\u001b[1;33m,\u001b[0m \u001b[0mmaxDepth\u001b[0m\u001b[1;33m,\u001b[0m \u001b[0mminLeaf\u001b[0m\u001b[1;33m,\u001b[0m \u001b[0mnFeatures\u001b[0m\u001b[1;33m)\u001b[0m\u001b[1;33m\u001b[0m\u001b[1;33m\u001b[0m\u001b[0m\n\u001b[0m\u001b[0;32m    166\u001b[0m \u001b[1;33m\u001b[0m\u001b[0m\n\u001b[0;32m    167\u001b[0m         \u001b[1;31m# recur right\u001b[0m\u001b[1;33m\u001b[0m\u001b[1;33m\u001b[0m\u001b[1;33m\u001b[0m\u001b[0m\n",
      "\u001b[1;32m~\\Desktop\\CS 178 Final Project\\mltools\\dtree.py\u001b[0m in \u001b[0;36m__train_recursive\u001b[1;34m(self, X, Y, depth, minParent, maxDepth, minLeaf, nFeatures)\u001b[0m\n\u001b[0;32m    163\u001b[0m         \u001b[1;31m# recur left\u001b[0m\u001b[1;33m\u001b[0m\u001b[1;33m\u001b[0m\u001b[1;33m\u001b[0m\u001b[0m\n\u001b[0;32m    164\u001b[0m         \u001b[0mself\u001b[0m\u001b[1;33m.\u001b[0m\u001b[0mL\u001b[0m\u001b[1;33m[\u001b[0m\u001b[0mmy_idx\u001b[0m\u001b[1;33m]\u001b[0m \u001b[1;33m=\u001b[0m \u001b[0mself\u001b[0m\u001b[1;33m.\u001b[0m\u001b[0msz\u001b[0m\u001b[1;33m\u001b[0m\u001b[1;33m\u001b[0m\u001b[0m\n\u001b[1;32m--> 165\u001b[1;33m         \u001b[0mself\u001b[0m\u001b[1;33m.\u001b[0m\u001b[0m__train_recursive\u001b[0m\u001b[1;33m(\u001b[0m\u001b[0mX\u001b[0m\u001b[1;33m[\u001b[0m\u001b[0mgo_left\u001b[0m\u001b[1;33m,\u001b[0m\u001b[1;33m:\u001b[0m\u001b[1;33m]\u001b[0m\u001b[1;33m,\u001b[0m \u001b[0mY\u001b[0m\u001b[1;33m[\u001b[0m\u001b[0mgo_left\u001b[0m\u001b[1;33m]\u001b[0m\u001b[1;33m,\u001b[0m \u001b[0mdepth\u001b[0m\u001b[1;33m+\u001b[0m\u001b[1;36m1\u001b[0m\u001b[1;33m,\u001b[0m \u001b[0mminParent\u001b[0m\u001b[1;33m,\u001b[0m \u001b[0mmaxDepth\u001b[0m\u001b[1;33m,\u001b[0m \u001b[0mminLeaf\u001b[0m\u001b[1;33m,\u001b[0m \u001b[0mnFeatures\u001b[0m\u001b[1;33m)\u001b[0m\u001b[1;33m\u001b[0m\u001b[1;33m\u001b[0m\u001b[0m\n\u001b[0m\u001b[0;32m    166\u001b[0m \u001b[1;33m\u001b[0m\u001b[0m\n\u001b[0;32m    167\u001b[0m         \u001b[1;31m# recur right\u001b[0m\u001b[1;33m\u001b[0m\u001b[1;33m\u001b[0m\u001b[1;33m\u001b[0m\u001b[0m\n",
      "\u001b[1;32m~\\Desktop\\CS 178 Final Project\\mltools\\dtree.py\u001b[0m in \u001b[0;36m__train_recursive\u001b[1;34m(self, X, Y, depth, minParent, maxDepth, minLeaf, nFeatures)\u001b[0m\n\u001b[0;32m    163\u001b[0m         \u001b[1;31m# recur left\u001b[0m\u001b[1;33m\u001b[0m\u001b[1;33m\u001b[0m\u001b[1;33m\u001b[0m\u001b[0m\n\u001b[0;32m    164\u001b[0m         \u001b[0mself\u001b[0m\u001b[1;33m.\u001b[0m\u001b[0mL\u001b[0m\u001b[1;33m[\u001b[0m\u001b[0mmy_idx\u001b[0m\u001b[1;33m]\u001b[0m \u001b[1;33m=\u001b[0m \u001b[0mself\u001b[0m\u001b[1;33m.\u001b[0m\u001b[0msz\u001b[0m\u001b[1;33m\u001b[0m\u001b[1;33m\u001b[0m\u001b[0m\n\u001b[1;32m--> 165\u001b[1;33m         \u001b[0mself\u001b[0m\u001b[1;33m.\u001b[0m\u001b[0m__train_recursive\u001b[0m\u001b[1;33m(\u001b[0m\u001b[0mX\u001b[0m\u001b[1;33m[\u001b[0m\u001b[0mgo_left\u001b[0m\u001b[1;33m,\u001b[0m\u001b[1;33m:\u001b[0m\u001b[1;33m]\u001b[0m\u001b[1;33m,\u001b[0m \u001b[0mY\u001b[0m\u001b[1;33m[\u001b[0m\u001b[0mgo_left\u001b[0m\u001b[1;33m]\u001b[0m\u001b[1;33m,\u001b[0m \u001b[0mdepth\u001b[0m\u001b[1;33m+\u001b[0m\u001b[1;36m1\u001b[0m\u001b[1;33m,\u001b[0m \u001b[0mminParent\u001b[0m\u001b[1;33m,\u001b[0m \u001b[0mmaxDepth\u001b[0m\u001b[1;33m,\u001b[0m \u001b[0mminLeaf\u001b[0m\u001b[1;33m,\u001b[0m \u001b[0mnFeatures\u001b[0m\u001b[1;33m)\u001b[0m\u001b[1;33m\u001b[0m\u001b[1;33m\u001b[0m\u001b[0m\n\u001b[0m\u001b[0;32m    166\u001b[0m \u001b[1;33m\u001b[0m\u001b[0m\n\u001b[0;32m    167\u001b[0m         \u001b[1;31m# recur right\u001b[0m\u001b[1;33m\u001b[0m\u001b[1;33m\u001b[0m\u001b[1;33m\u001b[0m\u001b[0m\n",
      "\u001b[1;32m~\\Desktop\\CS 178 Final Project\\mltools\\dtree.py\u001b[0m in \u001b[0;36m__train_recursive\u001b[1;34m(self, X, Y, depth, minParent, maxDepth, minLeaf, nFeatures)\u001b[0m\n\u001b[0;32m    138\u001b[0m             \u001b[1;31m# TODO: numeric comparison instead?\u001b[0m\u001b[1;33m\u001b[0m\u001b[1;33m\u001b[0m\u001b[1;33m\u001b[0m\u001b[0m\n\u001b[0;32m    139\u001b[0m             \u001b[0mcan_split\u001b[0m\u001b[1;33m[\u001b[0m\u001b[0mnp\u001b[0m\u001b[1;33m.\u001b[0m\u001b[0marange\u001b[0m\u001b[1;33m(\u001b[0m\u001b[1;36m0\u001b[0m\u001b[1;33m,\u001b[0m\u001b[0mminLeaf\u001b[0m\u001b[1;33m-\u001b[0m\u001b[1;36m1\u001b[0m\u001b[1;33m)\u001b[0m\u001b[1;33m]\u001b[0m \u001b[1;33m=\u001b[0m \u001b[1;36m0\u001b[0m\u001b[1;33m\u001b[0m\u001b[1;33m\u001b[0m\u001b[0m\n\u001b[1;32m--> 140\u001b[1;33m             \u001b[0mcan_split\u001b[0m\u001b[1;33m[\u001b[0m\u001b[0mnp\u001b[0m\u001b[1;33m.\u001b[0m\u001b[0marange\u001b[0m\u001b[1;33m(\u001b[0m\u001b[0mn\u001b[0m\u001b[1;33m-\u001b[0m\u001b[0mminLeaf\u001b[0m\u001b[1;33m,\u001b[0m\u001b[0mn\u001b[0m\u001b[1;33m)\u001b[0m\u001b[1;33m]\u001b[0m \u001b[1;33m=\u001b[0m \u001b[1;36m0\u001b[0m   \u001b[1;31m# TODO: check\u001b[0m\u001b[1;33m\u001b[0m\u001b[1;33m\u001b[0m\u001b[0m\n\u001b[0m\u001b[0;32m    141\u001b[0m \u001b[1;33m\u001b[0m\u001b[0m\n\u001b[0;32m    142\u001b[0m             \u001b[1;32mif\u001b[0m \u001b[1;32mnot\u001b[0m \u001b[0mnp\u001b[0m\u001b[1;33m.\u001b[0m\u001b[0many\u001b[0m\u001b[1;33m(\u001b[0m\u001b[0mcan_split\u001b[0m\u001b[1;33m)\u001b[0m\u001b[1;33m:\u001b[0m          \u001b[1;31m# no way to split on this feature?\u001b[0m\u001b[1;33m\u001b[0m\u001b[1;33m\u001b[0m\u001b[0m\n",
      "\u001b[1;31mKeyboardInterrupt\u001b[0m: "
     ]
    }
   ],
   "source": [
    "#Test maxDepth\n",
    "err_tr = np.zeros(16)\n",
    "err_va = np.zeros(16)\n",
    "\n",
    "for i in range(16):\n",
    "    new_learner = ml.dtree.treeClassify(Xtr, Ytr, maxDepth = i)\n",
    "    \n",
    "    err_tr[i] = new_learner.err(Xtr, Ytr)\n",
    "    err_va[i] = new_learner.err(Xva, Yva)\n",
    "    \n",
    "plt.plot(err_tr, '-r')\n",
    "plt.plot(err_va, '-g')\n",
    "plt.xlabel(\"maxDepth\")\n",
    "plt.ylabel(\"error rate\")\n",
    "plt.legend(['Training error', 'Validation error'])\n",
    "plt.show()\n",
    "\n",
    "#maxDepth of 6 seems to be the best one."
   ]
  },
  {
   "cell_type": "code",
   "execution_count": 90,
   "metadata": {},
   "outputs": [
    {
     "data": {
      "image/png": "[encoded data removed]",
      "text/plain": [
       "<Figure size 432x288 with 1 Axes>"
      ]
     },
     "metadata": {
      "needs_background": "light"
     },
     "output_type": "display_data"
    }
   ],
   "source": [
    "#Test minParent\n",
    "min_prt = [1, 2, 4, 8, 16, 32, 64, 128, 256, 512, 1024, 2048, 4096, 8192]\n",
    "\n",
    "err_tr4 = np.zeros(14)\n",
    "err_va4 = np.zeros(14)\n",
    "\n",
    "for i in range(0,14):\n",
    "    learner_4 = ml.dtree.treeClassify(Xtr, Ytr, maxDepth = 50, minParent = 2**i)\n",
    "    err_tr4[i] = learner_4.err(Xtr, Ytr)\n",
    "    err_va4[i] = learner_4.err(Xva, Yva)\n",
    "    \n",
    "plt.plot(err_tr4, '-r')\n",
    "plt.plot(err_va4, '-g')\n",
    "plt.xlabel(\"minParent\")\n",
    "plt.ylabel(\"error rate\")\n",
    "\n",
    "plt.legend(['Training error', 'Validation error'])\n",
    "plt.show()\n",
    "\n",
    "#minParent =8 is the best."
   ]
  },
  {
   "cell_type": "code",
   "execution_count": 299,
   "metadata": {},
   "outputs": [
    {
     "data": {
      "image/png": "[encoded data removed]",
      "text/plain": [
       "<Figure size 432x288 with 1 Axes>"
      ]
     },
     "metadata": {
      "needs_background": "light"
     },
     "output_type": "display_data"
    }
   ],
   "source": [
    "err_tr3 = np.zeros(25)\n",
    "err_va3 = np.zeros(25)\n",
    "\n",
    "classifiers123 = [None] * 25\n",
    "for i in range(0, 25):\n",
    "    Xi, Yi = ml.bootstrapData(Xtr, Ytr)\n",
    "    rf_learner = ml.dtree.treeClassify(Xi, Yi, maxDepth = 50, minLeaf = 4, nFeatures = 60, minParent = 2**8)\n",
    "    classifiers123[i] = rf_learner\n",
    "    \n",
    "    err_tr3[i] = rf_learner.err(Xtr, Ytr)\n",
    "    err_va3[i] = rf_learner.err(Xva, Yva)\n",
    "    \n",
    "num_learners = [1,5,10,15,20,25]\n",
    "\n",
    "tr_mean = np.zeros(6)\n",
    "va_mean = np.zeros(6)\n",
    "\n",
    "for i, v in enumerate([1,5,10,15,20,25]):\n",
    "    #print(i, v)\n",
    "    tr_mean[i] = np.mean(err_tr3[:v])\n",
    "    va_mean[i] = np.mean(err_va3[:v])\n",
    "    \n",
    "   \n",
    "    \n",
    "plt.plot(num_learners, tr_mean, '-r')\n",
    "plt.plot(num_learners, va_mean, '-g')\n",
    "plt.xticks(num_learners)\n",
    "plt.xlabel(\"number of learners\")\n",
    "plt.ylabel(\"error rate\")\n",
    "\n",
    "plt.legend(['Training error', 'Validation error'])\n",
    "plt.show()"
   ]
  },
  {
   "cell_type": "markdown",
   "metadata": {},
   "source": [
    "# Random Forests"
   ]
  },
  {
   "cell_type": "code",
   "execution_count": 39,
   "metadata": {},
   "outputs": [
    {
     "name": "stdout",
     "output_type": "stream",
     "text": [
      "vali_auc:  0.6885476650026122\n",
      "tr_auc:  0.7513223562354737\n"
     ]
    }
   ],
   "source": [
    "nEnsembles = 25\n",
    "classifiers = [None] * nEnsembles\n",
    "tot_auc = 0\n",
    "tr_auc = 0\n",
    "\n",
    "for i in range(nEnsembles):\n",
    "    Xi, Yi = ml.bootstrapData(Xtr, Ytr)\n",
    "    rf_learner = ml.dtree.treeClassify(Xi, Yi, maxDepth = 50, minLeaf = 4, nFeatures = 60, minParent = 2**8)\n",
    "    classifiers[i] = rf_learner\n",
    "    \n",
    "    tot_auc += rf_learner.auc(Xva, Yva)\n",
    "    tr_auc += rf_learner.auc(Xtr, Ytr)\n",
    "\n",
    "\n",
    "#toKaggle('Y_submit1.txt', pred)\n",
    "tot_auc = tot_auc / nEnsembles\n",
    "tr_auc = tr_auc / nEnsembles\n",
    "print(\"vali_auc: \", tot_auc)\n",
    "print(\"tr_auc: \", tr_auc)"
   ]
  },
  {
   "cell_type": "markdown",
   "metadata": {},
   "source": [
    "50 4 60 8\n",
    "maxdepth minleaf nfeature minParent     auc                          auc va vs tr\n",
    "   /50      4        60       8       =  0.697814583711228               0.6976  vs 0.75???\n",
    "   50       4        60       9                                          0.7108194 vs 0.7692198\n",
    "   50       4        60       10                                         0.7031110 vs 0.7474864067\n",
    "   50       4        50       9                                          0.6953 vs 0.7254'\n",
    "   \n",
    "   \n",
    "   /50      4        80       8       =  0.6974959550154183\n",
    "   70     4        80        6       =  0.7676                           0.667 vs 0.804\n",
    "   50      4        80       7       =  0.784694503899873\n",
    "   /50      4        60       6       = 0.657056                         0.662 vs 0.804\n",
    "   /50      4        80       6       =  0.7680406729185562              0.665 vs. 0.807\n",
    "   50      6        80       6       =  0.8115840014511155\n",
    "   50      5        80       6       =  0.8100741157264649"
   ]
  },
  {
   "cell_type": "code",
   "execution_count": 49,
   "metadata": {},
   "outputs": [],
   "source": [
    "pred = []\n",
    "pred2 = []\n",
    "pred3 = []\n",
    "\n",
    "for i in range(len(classifiers)):\n",
    "    predictions = classifiers[i].predictSoft(Xte)[:,1]\n",
    "    pred.append(predictions)\n",
    "    \n",
    "    predictions2 = classifiers[i].predictSoft(Xva)[:,1]\n",
    "    pred2.append(predictions2)\n",
    "    \n",
    "    predictions3 = classifiers[i].predictSoft(Xtr)[:,1]\n",
    "    pred3.append(predictions3)\n",
    "    \n",
    "pred = np.asarray(pred)\n",
    "pred2 = np.asarray(pred2)\n",
    "pred3 = np.asarray(pred3)\n",
    "\n",
    "output = np.zeros(7422)\n",
    "for i in range(0,7422):\n",
    "    tot = 0\n",
    "    for x in pred:\n",
    "        tot += x[i]\n",
    "    output[i] = tot/nEnsembles\n",
    "    \n",
    "output1_val = np.zeros(Xva.shape[0])\n",
    "for i in range(Xva.shape[0]):\n",
    "    tot2 = 0\n",
    "    for x in pred2:\n",
    "        tot2 += x[i]\n",
    "    output1_val[i] = tot2/nEnsembles\n",
    "    \n",
    "output2_tr = np.zeros(Xtr.shape[0])\n",
    "for i in range(Xtr.shape[0]):\n",
    "    tot3 = 0\n",
    "    for x in pred3:\n",
    "        tot3 += x[i]\n",
    "    output2_tr[i] = tot3/nEnsembles\n",
    "\n",
    "toKaggle('Y_submit1.txt', output)\n",
    "toKaggle('Vali1.txt', output1_val)\n",
    "toKaggle('Train1.txt', output2_tr)"
   ]
  },
  {
   "cell_type": "code",
   "execution_count": 252,
   "metadata": {},
   "outputs": [
    {
     "name": "stdout",
     "output_type": "stream",
     "text": [
      "(7422, 107)\n",
      "(1485, 107)\n"
     ]
    }
   ],
   "source": [
    "#Yte1 = np.vstack((np.arange(Xte.shape[0]), output)).T\n",
    "#np.savetxt('Y_submit1.txt', Yte1,'%d,%.2f', header = 'Id,Predicted', comments = '', delimiter = ',')\n",
    "print(Xte.shape)\n",
    "print(Xva.shape)"
   ]
  },
  {
   "cell_type": "markdown",
   "metadata": {},
   "source": [
    "# RANDOM FORESTS WITH 3 DIFFERENT X SETS (Version 3)"
   ]
  },
  {
   "cell_type": "code",
   "execution_count": 67,
   "metadata": {},
   "outputs": [],
   "source": [
    "Xreal_te = Xte[:,0:41]\n",
    "Xdiscrete_te = Xte[:, 41:69]\n",
    "Xbinary_te = Xte[:, 69:]\n",
    "\n",
    "Xreal_tr,Xreal_va,Yreal_tr,Yreal_va = ml.splitData(Xreal, Y, 0.8) #Split data into 80/20 (Training 80, validation 20)\n",
    "Xreal_tr,param=ml.transforms.rescale(Xreal_tr)\n",
    "Xreal_va,_=ml.transforms.rescale(Xreal_va,param)\n",
    "Xreal_te,_=ml.transforms.rescale(Xreal_te,param)\n",
    "\n",
    "\n",
    "\n",
    "#XREAL\n",
    "nEnsembles = 20\n",
    "classifiers = [None] * nEnsembles\n",
    "\n",
    "tot_auc1 = 0\n",
    "tr_auc1 = 0\n",
    "\n",
    "for i in range(nEnsembles):\n",
    "    Xi, Yi = ml.bootstrapData(Xreal_tr, Yreal_tr)\n",
    "    rf_learner = ml.dtree.treeClassify(Xi, Yi, maxDepth = 50, minLeaf = 4, nFeatures = 60, minParent = 2**8)\n",
    "    classifiers[i] = rf_learner\n",
    "    \n",
    "    tot_auc1 += rf_learner.auc(Xreal_va, Yreal_va)\n",
    "    tr_auc1 += rf_learner.auc(Xreal_tr, Yreal_tr)\n",
    "    \n",
    "tot_auc1 = tot_auc1 / nEnsembles\n",
    "tr_auc1 = tr_auc1 / nEnsembles"
   ]
  },
  {
   "cell_type": "code",
   "execution_count": 68,
   "metadata": {},
   "outputs": [],
   "source": [
    "pred = []\n",
    "\n",
    "for i in range(len(classifiers)):\n",
    "    predictions = classifiers[i].predictSoft(Xreal_te)[:,1]\n",
    "    pred.append(predictions)\n",
    "\n",
    "pred = np.asarray(pred)\n",
    "\n",
    "output = np.zeros(7422)\n",
    "for i in range(0,7422):\n",
    "    tot = 0\n",
    "    for x in pred:\n",
    "        tot += x[i]\n",
    "    output[i] = tot/nEnsembles\n",
    "    \n"
   ]
  },
  {
   "cell_type": "code",
   "execution_count": 69,
   "metadata": {},
   "outputs": [],
   "source": [
    "Xdiscrete_tr,Xdiscrete_va,Ydiscrete_tr,Ydiscrete_va = ml.splitData(Xdiscrete, Y, 0.8) #Split data into 80/20 (Training 80, validation 20)\n",
    "Xdiscrete_tr,param=ml.transforms.rescale(Xdiscrete_tr)\n",
    "Xdiscrete_va,_=ml.transforms.rescale(Xdiscrete_va,param)\n",
    "Xdiscrete_te,_=ml.transforms.rescale(Xdiscrete_te,param)\n",
    "#XDISCRETE\n",
    "\n",
    "nEnsembles = 20\n",
    "classifiers = [None] * nEnsembles\n",
    "\n",
    "tot_auc2 = 0\n",
    "tr_auc2 = 0\n",
    "\n",
    "for i in range(nEnsembles):\n",
    "    Xi, Yi = ml.bootstrapData(Xdiscrete_tr, Ydiscrete_tr)\n",
    "    rf_learner = ml.dtree.treeClassify(Xi, Yi, maxDepth = 50, minLeaf = 4, nFeatures = 60, minParent = 2**8)\n",
    "    classifiers[i] = rf_learner\n",
    "    \n",
    "    tot_auc2 += rf_learner.auc(Xdiscrete_va, Ydiscrete_va)\n",
    "    tr_auc2 += rf_learner.auc(Xdiscrete_tr, Ydiscrete_tr)\n",
    "    \n",
    "tot_auc2 = tot_auc2 / nEnsembles\n",
    "tr_auc2 = tr_auc2 / nEnsembles"
   ]
  },
  {
   "cell_type": "code",
   "execution_count": 70,
   "metadata": {},
   "outputs": [],
   "source": [
    "pred = []\n",
    "\n",
    "for i in range(len(classifiers)):\n",
    "    predictions = classifiers[i].predictSoft(Xdiscrete_te)[:,1]\n",
    "    pred.append(predictions)\n",
    "\n",
    "pred = np.asarray(pred)\n",
    "\n",
    "output2 = np.zeros(7422)\n",
    "for i in range(0,7422):\n",
    "    tot = 0\n",
    "    for x in pred:\n",
    "        tot += x[i]\n",
    "    output2[i] = tot/nEnsembles"
   ]
  },
  {
   "cell_type": "code",
   "execution_count": 71,
   "metadata": {},
   "outputs": [],
   "source": [
    "Xbinary_tr,Xbinary_va,Ybinary_tr,Ybinary_va = ml.splitData(Xbinary, Y, 0.8) #Split data into 80/20 (Training 80, validation 20)\n",
    "Xbinary_tr,param=ml.transforms.rescale(Xbinary_tr)\n",
    "Xbinary_va,_=ml.transforms.rescale(Xbinary_va,param)\n",
    "Xbinary_te,_=ml.transforms.rescale(Xbinary_te,param)\n",
    "\n",
    "#XBINARY\n",
    "nEnsembles = 20\n",
    "classifiers = [None] * nEnsembles\n",
    "\n",
    "tot_auc3 = 0\n",
    "tr_auc3 = 0\n",
    "\n",
    "for i in range(nEnsembles):\n",
    "    Xi, Yi = ml.bootstrapData(Xbinary_tr, Ybinary_tr)\n",
    "    rf_learner = ml.dtree.treeClassify(Xi, Yi, maxDepth = 50, minLeaf = 4, nFeatures = 60, minParent = 2**8)\n",
    "    classifiers[i] = rf_learner\n",
    "    \n",
    "    tot_auc3 += rf_learner.auc(Xbinary_va, Ybinary_va)\n",
    "    tr_auc3 += rf_learner.auc(Xbinary_tr, Ybinary_tr)\n",
    "    \n",
    "tot_auc3 = tot_auc3 / nEnsembles\n",
    "tr_auc3 = tr_auc3 / nEnsembles\n"
   ]
  },
  {
   "cell_type": "code",
   "execution_count": 72,
   "metadata": {},
   "outputs": [],
   "source": [
    "pred = []\n",
    "\n",
    "for i in range(len(classifiers)):\n",
    "    predictions = classifiers[i].predictSoft(Xbinary_te)[:,1]\n",
    "    pred.append(predictions)\n",
    "\n",
    "pred = np.asarray(pred)\n",
    "\n",
    "output3 = np.zeros(7422)\n",
    "for i in range(0,7422):\n",
    "    tot = 0\n",
    "    for x in pred:\n",
    "        tot += x[i]\n",
    "    output3[i] = tot/nEnsembles"
   ]
  },
  {
   "cell_type": "code",
   "execution_count": 73,
   "metadata": {},
   "outputs": [
    {
     "name": "stdout",
     "output_type": "stream",
     "text": [
      "0.7396655332174924 0.676183915510536\n",
      "Training auc: 0.6494941666321564\n",
      "Validation auc: 0.5930021580706643\n"
     ]
    }
   ],
   "source": [
    "final_output = np.zeros(7422)\n",
    "for i in range(0,7422):\n",
    "    final_output[i] = (output[i] + output2[i] + output3[i])/3\n",
    "\n",
    "final_auc_tr = (tr_auc1 + tr_auc2 + tr_auc3) /3\n",
    "final_auc_va = (tot_auc1 + tot_auc2 + tot_auc3) /3\n",
    "\n",
    "print(\"Training auc:\", final_auc_tr)\n",
    "print('Validation auc:', final_auc_va)"
   ]
  },
  {
   "cell_type": "code",
   "execution_count": 75,
   "metadata": {},
   "outputs": [],
   "source": [
    "toKaggle('Y_submit_rf_version3.txt', final_output)\n",
    "#toKaggle('Vali1.txt', output1_val)"
   ]
  },
  {
   "cell_type": "markdown",
   "metadata": {},
   "source": [
    "# Neural Network"
   ]
  },
  {
   "cell_type": "code",
   "execution_count": 106,
   "metadata": {},
   "outputs": [
    {
     "name": "stdout",
     "output_type": "stream",
     "text": [
      "it 1 : Jsur = 0.5411796568867927, J01 = 0.4917480633209835\n",
      "it 2 : Jsur = 0.49469986976992336, J01 = 0.42943752105085886\n",
      "it 4 : Jsur = 0.46931476559956015, J01 = 0.3912091613337824\n",
      "it 8 : Jsur = 0.4585391281005691, J01 = 0.3826204109127652\n",
      "it 16 : Jsur = 0.45481808207474206, J01 = 0.38026271471876055\n",
      "0.6385778864573054\n",
      "0.6743949973932938\n"
     ]
    }
   ],
   "source": [
    "nHidden = 700\n",
    "nnet = ml.nnet.nnetClassify()\n",
    "nnet.setActivation('logistic')\n",
    "nnet.init_weights([Xtr.shape[1], nHidden, 2], 'random', addZeroFeature(Xtr, 85), Ytr)\n",
    "nnet.train(Xtr, Ytr, stepsize=0.05, stopIter=10000)\n",
    "print(nnet.auc(Xva,Yva))\n",
    "print(nnet.auc(Xtr,Ytr))\n",
    "\n",
    "\n",
    "output2_va = nnet.predictSoft(Xva)\n",
    "output2_te = nnet.predictSoft(Xte)\n",
    "output2_tr = nnet.predictSoft(Xtr)\n",
    "\n",
    "toKaggle('Vali2.txt', output2_va[:,1])\n",
    "toKaggle('Y_submit2.txt', output2_te[:,1])\n",
    "toKaggle('Train2.txt', output2_tr[:,1])"
   ]
  },
  {
   "cell_type": "code",
   "execution_count": 22,
   "metadata": {},
   "outputs": [],
   "source": [
    "def toKaggle(filename,YeHat):\n",
    "    fh=open(filename,'w')# open file for upload\n",
    "    fh.write('ID,Predicted\\n')# output header line\n",
    "    for i,yi in enumerate(YeHat.ravel()):\n",
    "        fh.write('{},{}\\n'.format(i,yi))# output each prediction\n",
    "    fh.close() "
   ]
  },
  {
   "cell_type": "markdown",
   "metadata": {},
   "source": [
    "# KNN"
   ]
  },
  {
   "cell_type": "code",
   "execution_count": 46,
   "metadata": {},
   "outputs": [],
   "source": [
    "num_clusters = 10\n",
    "ssd = np.inf\n",
    "\n",
    "for i in range(10):\n",
    "    Z1, c1, ssd1 = ml.cluster.kmeans(Xtr, K = num_clusters, init = 'k++')\n",
    "    if ssd1 < ssd:\n",
    "        Z, c, ssd = Z1, c1, ssd1\n",
    "\n",
    "KNN = ml.knn.knnClassify(c, np.array(range(num_clusters)), 1)"
   ]
  },
  {
   "cell_type": "code",
   "execution_count": 51,
   "metadata": {},
   "outputs": [
    {
     "name": "stdout",
     "output_type": "stream",
     "text": [
      "Training auc: 0.7273005245748005\n",
      "Clustered LinClassify: Validation AUC ~ 0.6242562547164335\n"
     ]
    }
   ],
   "source": [
    "XtC=ml.to1ofK(KNN.predict(Xtr),np.array(range(num_clusters)))\n",
    "XvC=ml.to1ofK(KNN.predict(Xva),np.array(range(num_clusters)))\n",
    "XeC=ml.to1ofK(KNN.predict(Xte),np.array(range(num_clusters)))\n",
    "\n",
    "XtC2=np.einsum('ij,ik->ijk',XtC,Xtr).reshape((Xtr.shape[0],Xtr.shape[1]*num_clusters))\n",
    "XvC2=np.einsum('ij,ik->ijk',XvC,Xva).reshape((Xva.shape[0],Xva.shape[1]*num_clusters))\n",
    "XeC2=np.einsum('ij,ik->ijk',XeC,Xte).reshape((Xte.shape[0],Xte.shape[1]*num_clusters))\n",
    "\n",
    "linc2=ml.linearC.linearClassify(XtC2,Ytr,initStep=.01,reg=1e-3,stopIter=300)\n",
    "output3 = linc2.predictSoft(XeC2)\n",
    "output3_val = linc2.predictSoft(XvC2)\n",
    "output3_tr = linc2.predictSoft(XtC2)\n",
    "print(\"Training auc:\", linc2.auc(XtC2, Ytr))\n",
    "print(\"Clustered LinClassify: Validation AUC ~\",linc2.auc(XvC2,Yva))\n",
    "toKaggle('Y_submit3.txt', output3[:,1])\n",
    "toKaggle('Vali3.txt', output3_val[:,1])\n",
    "toKaggle('Train3.txt', output3_tr[:,1])"
   ]
  },
  {
   "cell_type": "markdown",
   "metadata": {},
   "source": [
    "the number of neighbors used: 1 -> 0.67297658\n",
    "initstep = 0.1 -> 0.63\n",
    "initstep = 0.05 -> 0.6390\n",
    "reg 1e-3. deefault.\n",
    "reg 1e-4 -> 0.6389\n",
    "\n",
    "numclusters = 10 -> 0.663039258\n",
    "numclusters = 20 -> 0.63783306"
   ]
  },
  {
   "cell_type": "markdown",
   "metadata": {},
   "source": [
    "   # New KNN Clustering By Yulim"
   ]
  },
  {
   "cell_type": "code",
   "execution_count": 104,
   "metadata": {},
   "outputs": [
    {
     "name": "stdout",
     "output_type": "stream",
     "text": [
      "3: Clustered LinClassify: Validation AUC ~ 0.6214898850641435\n",
      "3: Clustered LinClassify: Training AUC ~ 0.6737420444405112\n"
     ]
    }
   ],
   "source": [
    "nClusters = 3\n",
    "inits = ['k++', 'random', 'farthest']\n",
    "sumD = np.inf\n",
    "\n",
    "valErr_x = []\n",
    "trainErr_x = []\n",
    "\n",
    "for i in range(5):\n",
    "    for j in inits:\n",
    "        Zi, ci, sumDi = ml.cluster.kmeans(addSameFeature(Xtr, 80), K=nClusters, init=j)\n",
    "        if sumDi < sumD:\n",
    "            Z, C, sumD = Zi, ci, sumDi\n",
    "            #Z: N x 1 array containing cluster numbers of data at indices X\n",
    "            #C: K x M array of cluster centers\n",
    "            #sumD: (scalar) sum of squared euclidean distances\n",
    "\n",
    "#fig, ax = plt.subplots(1, 2, figsize=(20,8))\n",
    "#ax[0].scatter(Xtr[:,0], Xtr[:,1], c=Ytr) #plots original data\n",
    "#ax[1].scatter(Xtr[:,0], Xtr[:,1], c=Ytr) #plots the clustered data\n",
    "#ax[1].scatter(C[:,0], C[:,0], s=500, marker='x', facecolor='black', lw=8)\n",
    "#plt.show()\n",
    "KNN = ml.knn.knnClassify(C, np.array(range(nClusters)), 1)\n",
    "\n",
    "XtrC=ml.to1ofK(KNN.predict(Xtr),np.array(range(nClusters)))\n",
    "XvaC=ml.to1ofK(KNN.predict(Xva),np.array(range(nClusters)))\n",
    "XteC=ml.to1ofK(KNN.predict(Xte),np.array(range(nClusters)))\n",
    "\n",
    "XtrC2=np.einsum('ij,ik->ijk',XtrC,Xtr).reshape((Xtr.shape[0],Xtr.shape[1]*nClusters))\n",
    "XvaC2=np.einsum('ij,ik->ijk',XvaC,Xva).reshape((Xva.shape[0],Xva.shape[1]*nClusters))\n",
    "XteC2=np.einsum('ij,ik->ijk',XteC,Xte).reshape((Xte.shape[0],Xte.shape[1]*nClusters))\n",
    "\n",
    "KNNlinearClassifier = ml.linearC.linearClassify(XtrC2, Ytr, initStep=0.01, stopIter=30)\n",
    "Pva3 = KNNlinearClassifier.predictSoft(XvaC2)\n",
    "Pte3 = KNNlinearClassifier.predictSoft(XteC2)\n",
    "Ptr3 = KNNlinearClassifier.predictSoft(XtrC2)\n",
    "\n",
    "toKaggle('Y_submit3.txt', Pte3[:,1])\n",
    "toKaggle('Vali3.txt', Pva3[:,1])\n",
    "toKaggle('Train3.txt', Ptr3[:,1])\n",
    "\n",
    "print(\"3: Clustered LinClassify: Validation AUC ~\",KNNlinearClassifier.auc(XvaC2,Yva))\n",
    "print(\"3: Clustered LinClassify: Training AUC ~\",KNNlinearClassifier.auc(XtrC2,Ytr))\n"
   ]
  },
  {
   "cell_type": "code",
   "execution_count": 103,
   "metadata": {},
   "outputs": [],
   "source": [
    "def addZeroFeature(X, K):\n",
    "    newX = X.copy()\n",
    "    for i in range(X.shape[1]): #add zero features\n",
    "        if i > K: \n",
    "            newX[:,i] = np.zeros(X[:,i].shape)\n",
    "    return newX\n",
    "\n",
    "def addSameFeature(X,K): # R\n",
    "    newX = X.copy()\n",
    "    for i in range(X.shape[1]):\n",
    "        if i>K:\n",
    "            newX[:,i] = np.random.randint(0,3, size=X[:,i].shape)\n",
    "    return newX\n",
    "def addZeroData(X, K):\n",
    "    newX = X.copy()\n",
    "    for i in range(X.shape[0]): # add zero dataset \n",
    "        if i > K:\n",
    "            newX[i,:] = np.array(X[i,:].shape)\n",
    "    return newX\n"
   ]
  },
  {
   "cell_type": "markdown",
   "metadata": {},
   "source": [
    "# Gradient Boosting"
   ]
  },
  {
   "cell_type": "code",
   "execution_count": 303,
   "metadata": {},
   "outputs": [],
   "source": [
    "def sigma(z):\n",
    "    return np.exp(-z)/(1.+np.exp(-z))\n",
    "\n",
    "va_pred = np.zeros(Xva.shape[0])\n",
    "te_pred = np.zeros(Xte.shape[0])\n",
    "\n",
    "va_result = np.zeros(Xva.shape[0])\n",
    "te_result = np.zeros(Xte.shape[0])\n",
    "\n",
    "nBags = 20\n",
    "\n",
    "learners = [None] * nBags\n",
    "alpha = 0.5\n",
    "\n",
    "f = np.zeros(Ytr.shape)\n",
    "for k in range(nBags):\n",
    "    dY = 1.*Ytr - sigma(f)\n",
    "    learners[k] = ml.dtree.treeRegress(Xtr, dY, maxDepth = 3, minParent = 2**12)\n",
    "    f -= alpha * learners[k].predict(Xtr)\n",
    "    va_pred += -alpha * learners[k].predict(Xva)\n",
    "    te_pred += -alpha * learners[k].predict(Xte)\n",
    "    \n",
    "    va_result = sigma(va_pred)\n",
    "    te_result = sigma(te_pred)\n",
    "\n",
    "toKaggle('Y_submit4.txt', te_result)\n",
    "toKaggle('Vali4.txt', va_result)\n",
    "\n",
    "\n"
   ]
  },
  {
   "cell_type": "code",
   "execution_count": 287,
   "metadata": {},
   "outputs": [
    {
     "name": "stdout",
     "output_type": "stream",
     "text": [
      "[0.53931953 0.53931953 0.53931953 ... 0.53931953 0.22461685 0.73780271]\n"
     ]
    }
   ],
   "source": [
    "print(va_result)"
   ]
  },
  {
   "cell_type": "code",
   "execution_count": null,
   "metadata": {},
   "outputs": [],
   "source": []
  },
  {
   "cell_type": "code",
   "execution_count": null,
   "metadata": {},
   "outputs": [],
   "source": []
  },
  {
   "cell_type": "code",
   "execution_count": 196,
   "metadata": {},
   "outputs": [
    {
     "name": "stdout",
     "output_type": "stream",
     "text": [
      "[0.59090909 0.16666667 0.59090909 ... 0.59090909 0.59090909 0.16666667]\n"
     ]
    }
   ],
   "source": []
  },
  {
   "cell_type": "code",
   "execution_count": 107,
   "metadata": {},
   "outputs": [
    {
     "name": "stdout",
     "output_type": "stream",
     "text": [
      "Validation auc: 0.7495537528298601\n",
      "Training auc: 0.8610251758463001\n"
     ]
    }
   ],
   "source": [
    "va1 = np.genfromtxt('Vali1.txt',delimiter=',',skip_header=1)[:,1:2]\n",
    "va2 = np.genfromtxt('Vali2.txt',delimiter=',',skip_header=1)[:,1:2]\n",
    "va3 = np.genfromtxt('Vali3.txt',delimiter=',',skip_header=1)[:,1:2]\n",
    "va4 = np.genfromtxt('Vali4.txt',delimiter=',', skip_header=1)[:,1:2]\n",
    "stacked_vali = np.hstack((va1, va2, va3))#, va4))\n",
    "stack_classifier = ml.linearC.linearClassify(stacked_vali, Yva, reg=1e-3)\n",
    "\n",
    "tr1 = np.genfromtxt('Train1.txt',delimiter=',',skip_header=1)[:,1:2]\n",
    "tr2 = np.genfromtxt('Train2.txt',delimiter=',',skip_header=1)[:,1:2]\n",
    "tr3 = np.genfromtxt('Train3.txt',delimiter=',',skip_header=1)[:,1:2]\n",
    "stacked_tr = np.hstack((tr1, tr2, tr3))#, va4))\n",
    "stack_classifier_tr = ml.linearC.linearClassify(stacked_tr, Ytr, reg=1e-3)\n",
    "\n",
    "\n",
    "print(\"Validation auc:\", stack_classifier.auc(stacked_vali, Yva))\n",
    "print(\"Training auc:\",stack_classifier_tr.auc(stacked_tr, Ytr))\n",
    "ys1 = np.genfromtxt('Y_submit1.txt',delimiter=',',skip_header=1)[:,1:2]\n",
    "ys2 = np.genfromtxt('Y_submit2.txt',delimiter=',',skip_header=1)[:,1:2]\n",
    "ys3 = np.genfromtxt('Y_submit3.txt',delimiter=',',skip_header=1)[:,1:2]\n",
    "ys4 = np.genfromtxt('Y_submit4.txt',delimiter=',',skip_header=1)[:,1:2]\n",
    "stacked = np.hstack((ys1, ys2, ys3))#, ys4))\n",
    "predict_stacked = stack_classifier.predictSoft(stacked)\n",
    "toKaggle('Stacked.txt', predict_stacked[:,1])"
   ]
  },
  {
   "cell_type": "code",
   "execution_count": null,
   "metadata": {},
   "outputs": [],
   "source": [
    "1,3 = 0.731649\n",
    "1234 = 0.7331496\n",
    "1234 = 0.73354693799 (numclusters = 20)\n",
    "123 = 0.7493614674638648"
   ]
  },
  {
   "cell_type": "code",
   "execution_count": null,
   "metadata": {},
   "outputs": [],
   "source": []
  },
  {
   "cell_type": "code",
   "execution_count": null,
   "metadata": {},
   "outputs": [],
   "source": []
  },
  {
   "cell_type": "code",
   "execution_count": null,
   "metadata": {},
   "outputs": [],
   "source": []
  }
 ],
 "metadata": {
  "kernelspec": {
   "display_name": "Python 3",
   "language": "python",
   "name": "python3"
  },
  "language_info": {
   "codemirror_mode": {
    "name": "ipython",
    "version": 3
   },
   "file_extension": ".py",
   "mimetype": "text/x-python",
   "name": "python",
   "nbconvert_exporter": "python",
   "pygments_lexer": "ipython3",
   "version": "3.7.4"
  }
 },
 "nbformat": 4,
 "nbformat_minor": 2
}
